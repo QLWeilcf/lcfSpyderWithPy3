{
 "cells": [
  {
   "cell_type": "markdown",
   "metadata": {},
   "source": [
    "# 基于已有书名列表的豆瓣专题爬虫\n",
    "\n",
    "- 需求：根据含有书名的Excel文件逐条查找补充书目信息，爬区豆瓣上的出版社、出版时间、ISBN、定价、评分、评分人数等；整合到pandas进行专题分析。\n",
    "- 爬虫+数据分析：根据书名爬豆瓣获取书籍属性、整合到pandas，进行分析\n",
    "\n",
    "本来打算直接用https://book.douban.com/subject_search?search_text={0}&cat=1001'.format('书名') 查询结构，没找到异步返回的数据json，绕了一圈后发现https://book.douban.com/j/subject_suggest?q={0}  可以用，就用了，通过比较名字和作者等确定url，然后直接爬该图书主页，然后写入字典。再变成dataframe。"
   ]
  },
  {
   "cell_type": "code",
   "execution_count": 1,
   "metadata": {
    "ExecuteTime": {
     "end_time": "2019-02-22T09:36:36.829909Z",
     "start_time": "2019-02-22T09:36:33.730339Z"
    }
   },
   "outputs": [],
   "source": [
    "#引入所需库\n",
    "import json\n",
    "import requests\n",
    "import pandas as pd\n",
    "from lxml import etree"
   ]
  },
  {
   "cell_type": "code",
   "execution_count": 2,
   "metadata": {},
   "outputs": [],
   "source": [
    "import matplotlib.pyplot as plt\n",
    "%matplotlib inline"
   ]
  },
  {
   "cell_type": "code",
   "execution_count": 4,
   "metadata": {
    "ExecuteTime": {
     "end_time": "2019-02-22T09:48:58.955320Z",
     "start_time": "2019-02-22T09:48:58.700941Z"
    }
   },
   "outputs": [],
   "source": [
    "bsdf=pd.read_excel('booklistfortest.xlsx') #读取书名Excel数据，为了简化，这里只用了\"书名\"列\n",
    "#bsdf.head(3)"
   ]
  },
  {
   "cell_type": "code",
   "execution_count": 5,
   "metadata": {
    "ExecuteTime": {
     "end_time": "2019-02-22T09:49:00.905526Z",
     "start_time": "2019-02-22T09:49:00.895553Z"
    }
   },
   "outputs": [
    {
     "data": {
      "text/plain": [
       "'龙族'"
      ]
     },
     "execution_count": 5,
     "metadata": {},
     "output_type": "execute_result"
    }
   ],
   "source": [
    "blst=list(bsdf['书名']) #书名列表\n",
    "blst[0]"
   ]
  },
  {
   "cell_type": "markdown",
   "metadata": {},
   "source": [
    "爬虫方面涉及到的：get，xpath去匹配，对于长度不定的一个html区域，不能写死xpath解析式，通过循环去取数，理清其HTML树结构；\n",
    "\n",
    "一般解析是用BeautifulSoup或xpath，我更喜欢用xpath，因此下面的代码主要基于xpath解析文本。\n",
    "以评分为例，鼠标点击评分部分，然后按Ctrl+Shift+I，或者右键点击检查元素，反正就是定位到评分对应的HTML上，定位到评分的代码部分后，右键，选择Copy->Copy XPath ,例如对于评分来说有：//*[@id=\"interest_sectl\"]/div/div[2]/strong 通过con.xpath('//*[@id=\"interest_sectl\"]/div/div[2]/strong/text()')就可以得到评分数据，返回的是列表，一般就是第0个值。同样，其他地方也是这样，而作者、出版社那几个属性是结构比较散的，需要特殊处理。\n",
    "\n",
    "通过//*[@id=\"info\"]/span[2] 可以确定 出版社 这个属性，但是属性的值，具体是哪个出版社不能确定，这些文字是在info这个节点上的。还是需要建立info的树结构"
   ]
  },
  {
   "cell_type": "code",
   "execution_count": null,
   "metadata": {},
   "outputs": [],
   "source": []
  },
  {
   "cell_type": "code",
   "execution_count": 19,
   "metadata": {
    "ExecuteTime": {
     "end_time": "2019-02-22T10:19:17.052405Z",
     "start_time": "2019-02-22T10:19:17.045424Z"
    }
   },
   "outputs": [
    {
     "data": {
      "text/plain": [
       "[' 5.9 ']"
      ]
     },
     "execution_count": 19,
     "metadata": {},
     "output_type": "execute_result"
    }
   ],
   "source": [
    "con.xpath('//*[@id=\"interest_sectl\"]/div/div[2]/strong/text()')"
   ]
  },
  {
   "cell_type": "code",
   "execution_count": 8,
   "metadata": {
    "ExecuteTime": {
     "end_time": "2019-02-22T09:50:20.879398Z",
     "start_time": "2019-02-22T09:50:20.871394Z"
    }
   },
   "outputs": [],
   "source": [
    "def getBookInfo(binfo,cc):\n",
    "    i=0\n",
    "    rss={}\n",
    "    k=''\n",
    "    v=''\n",
    "    f=0\n",
    "    clw=[]\n",
    "    for c in cc:\n",
    "        if '\\n' in c:\n",
    "            if '\\xa0' in c:\n",
    "                clw.append(c)\n",
    "        else:\n",
    "            clw.append(c)\n",
    "    \n",
    "    for m in binfo[0]:\n",
    "        if m.tag=='span':\n",
    "            mlst=m.getchildren()\n",
    "            if len(mlst)==0: \n",
    "                k=m.text.replace(':','')\n",
    "                if '\\xa0' in clw[i]:\n",
    "                    f=1#需要m.tag=='a'下的值\n",
    "                else:\n",
    "                    v=clw[i].replace('\\n','').replace(' ','')\n",
    "                i+=1\n",
    "            elif len(mlst)>0:#下面有子span 一种判断是m.attrib=={} 不够精确\n",
    "                for n in mlst:\n",
    "                    if n.tag=='span':\n",
    "                        k=n.text.replace('\\n','').replace(' ','') #不至于下面还有span，懒得用递归了\n",
    "                    elif n.tag=='a':\n",
    "                        v=n.text.replace('\\n','').replace(' ','')\n",
    "        \n",
    "        elif m.tag=='a':\n",
    "            if f==1: #是否可以不用这个if\n",
    "                v=m.text.replace('\\n','').replace(' ','')\n",
    "                f=0\n",
    "        elif m.tag=='br':\n",
    "            if k=='':\n",
    "                print(i,'err')\n",
    "            else:\n",
    "                rss[k]=v\n",
    "        else:\n",
    "            print(m.tag,i)\n",
    "    return rss"
   ]
  },
  {
   "cell_type": "markdown",
   "metadata": {},
   "source": [
    "调用上面函数返回的是一个字典，要整合到已有的字典里。涉及字典的组合，查了一下可以用d=dict(d,\\*\\*dw)，其中d是旧字典，dw是要加到d里的新字典，更简便的方式是用d.update(dw)函数，下面的代码就是用的update的。"
   ]
  },
  {
   "cell_type": "code",
   "execution_count": null,
   "metadata": {},
   "outputs": [],
   "source": []
  },
  {
   "cell_type": "markdown",
   "metadata": {},
   "source": [
    "主体代码如下，这个部分也可以打包为函数，因为jupyter里还是逐步分析方面就没打包"
   ]
  },
  {
   "cell_type": "code",
   "execution_count": 9,
   "metadata": {
    "ExecuteTime": {
     "end_time": "2019-02-22T09:51:31.515042Z",
     "start_time": "2019-02-22T09:51:21.718724Z"
    }
   },
   "outputs": [],
   "source": [
    "rlst=[]\n",
    "for bn in blst:\n",
    "    res={}\n",
    "    r=requests.get('https://book.douban.com/j/subject_suggest?q={0}'.format(bn))\n",
    "    rj=json.loads(r.text)\n",
    "    #对rj进行一下验证和筛选\n",
    "    html=requests.get(rj[0]['url']) #之后再考虑多个返回值的验证\n",
    "    con = etree.HTML(html.text)\n",
    "    bname=con.xpath('//*[@id=\"wrapper\"]/h1/span/text()')[0] #和bn比较\n",
    "    res['bname_sq']=bn\n",
    "    res['bname']=bname\n",
    "    res['dbid']=rj[0]['id'] #不需要存url，存id就够了\n",
    "    #这部分取到info就够了，之后再用高级方法去匹配需要的元素，目前对应不对\n",
    "    binfo=con.xpath('//*[@id=\"info\"]')\n",
    "    cc=con.xpath('//*[@id=\"info\"]/text()')\n",
    "    res.update(getBookInfo(binfo,cc))  #调用上面的函数处理binfo\n",
    "    bmark=con.xpath('//*[@id=\"interest_sectl\"]/div/div[2]/strong/text()')[0]\n",
    "    if bmark=='  ':\n",
    "        bits=con.xpath('//*[@id=\"interest_sectl\"]/div/div[2]/div/div[2]/span/a/text()')[0]\n",
    "        if bits=='评价人数不足':\n",
    "            res['评分']=''\n",
    "            res['评价人数']='评价人数不足'\n",
    "        else:\n",
    "            res['评分']=''\n",
    "            res['评价人数']=''\n",
    "    else:\n",
    "        res['评分']=bmark.replace(' ','')\n",
    "        bmnum=con.xpath('//*[@id=\"interest_sectl\"]/div/div[2]/div/div[2]/span/a/span/text()')[0]\n",
    "        res['评价人数']=bmnum\n",
    "    rlst.append(res)"
   ]
  },
  {
   "cell_type": "code",
   "execution_count": 1,
   "metadata": {
    "ExecuteTime": {
     "end_time": "2019-02-25T10:07:50.764200Z",
     "start_time": "2019-02-25T10:07:50.665448Z"
    }
   },
   "outputs": [
    {
     "ename": "NameError",
     "evalue": "name 'pd' is not defined",
     "output_type": "error",
     "traceback": [
      "\u001b[1;31m--------------------------------------------------------------------------\u001b[0m",
      "\u001b[1;31mNameError\u001b[0m                                Traceback (most recent call last)",
      "\u001b[1;32m<ipython-input-1-7d1ee9147cd3>\u001b[0m in \u001b[0;36m<module>\u001b[1;34m()\u001b[0m\n\u001b[1;32m----> 1\u001b[1;33m \u001b[0moutdf\u001b[0m\u001b[1;33m=\u001b[0m\u001b[0mpd\u001b[0m\u001b[1;33m.\u001b[0m\u001b[0mDataFrame\u001b[0m\u001b[1;33m(\u001b[0m\u001b[0mrlst\u001b[0m\u001b[1;33m)\u001b[0m\u001b[1;33m\u001b[0m\u001b[0m\n\u001b[0m",
      "\u001b[1;31mNameError\u001b[0m: name 'pd' is not defined"
     ]
    }
   ],
   "source": [
    "outdf=pd.DataFrame(rlst)"
   ]
  },
  {
   "cell_type": "code",
   "execution_count": null,
   "metadata": {
    "ExecuteTime": {
     "end_time": "2019-02-25T10:08:15.037933Z",
     "start_time": "2019-02-25T10:08:15.030947Z"
    }
   },
   "outputs": [],
   "source": []
  },
  {
   "cell_type": "code",
   "execution_count": null,
   "metadata": {},
   "outputs": [],
   "source": []
  },
  {
   "cell_type": "code",
   "execution_count": null,
   "metadata": {},
   "outputs": [],
   "source": []
  },
  {
   "cell_type": "code",
   "execution_count": 20,
   "metadata": {
    "ExecuteTime": {
     "end_time": "2019-02-22T10:26:53.531299Z",
     "start_time": "2019-02-22T10:26:52.374963Z"
    }
   },
   "outputs": [],
   "source": [
    "#一般有多个返回值，简化只取第一个，所以就是用rj[0]['url']\n",
    "#html=requests.get(rj[0]['url'])"
   ]
  },
  {
   "cell_type": "code",
   "execution_count": 21,
   "metadata": {
    "ExecuteTime": {
     "end_time": "2019-02-22T10:26:54.546719Z",
     "start_time": "2019-02-22T10:26:54.541733Z"
    }
   },
   "outputs": [
    {
     "data": {
      "text/plain": [
       "'https://book.douban.com/subject/26943161/'"
      ]
     },
     "execution_count": 21,
     "metadata": {},
     "output_type": "execute_result"
    }
   ],
   "source": [
    "rj[0]['url']"
   ]
  },
  {
   "cell_type": "code",
   "execution_count": 22,
   "metadata": {
    "ExecuteTime": {
     "end_time": "2019-02-22T10:26:57.895208Z",
     "start_time": "2019-02-22T10:26:57.878254Z"
    }
   },
   "outputs": [
    {
     "data": {
      "text/plain": [
       "<Element div at 0x19aad51ed08>"
      ]
     },
     "execution_count": 22,
     "metadata": {},
     "output_type": "execute_result"
    }
   ],
   "source": [
    "con = etree.HTML(html.text)\n",
    "binfo=con.xpath('//*[@id=\"info\"]')\n",
    "binfo[0]"
   ]
  },
  {
   "cell_type": "code",
   "execution_count": 6,
   "metadata": {},
   "outputs": [],
   "source": [
    "import re\n",
    "def priceNorm(df):#用apply处理定价列\n",
    "    pri=df['定价']\n",
    "    pric=re.findall('^[0-9]+\\.[0-9]+',pri)\n",
    "    if pric==[]:\n",
    "        print(pri)\n",
    "        return float(pri)\n",
    "    else:\n",
    "        return float(pric[0])"
   ]
  },
  {
   "cell_type": "markdown",
   "metadata": {},
   "source": [
    "## 简单统计数据分析"
   ]
  },
  {
   "cell_type": "code",
   "execution_count": null,
   "metadata": {},
   "outputs": [],
   "source": [
    "outdf.to_excel('out_douban_binfo.xlsx',index=False) #输出数据"
   ]
  },
  {
   "cell_type": "code",
   "execution_count": null,
   "metadata": {},
   "outputs": [],
   "source": [
    "# 数据合并\n",
    "bdf=bsdf.merge(outdf,on='书名',how='left')"
   ]
  },
  {
   "cell_type": "code",
   "execution_count": 15,
   "metadata": {},
   "outputs": [
    {
     "data": {
      "text/plain": [
       "97"
      ]
     },
     "execution_count": 15,
     "metadata": {},
     "output_type": "execute_result"
    }
   ],
   "source": [
    "len(set(list(bdf['出版社'])))"
   ]
  },
  {
   "cell_type": "code",
   "execution_count": null,
   "metadata": {},
   "outputs": [],
   "source": [
    "outdf.apply(priceNorm,axis=1)\n",
    "#因为存在外国价格，就不直接转float了"
   ]
  },
  {
   "cell_type": "code",
   "execution_count": 3,
   "metadata": {},
   "outputs": [],
   "source": []
  },
  {
   "cell_type": "code",
   "execution_count": 16,
   "metadata": {},
   "outputs": [
    {
     "name": "stdout",
     "output_type": "stream",
     "text": [
      "一共有421本书，309个作者，97个出版社；\n"
     ]
    }
   ],
   "source": [
    "# 基本统计值\n",
    "#多少本书、多少个作者（作者国籍)、多少个出版社\n",
    "\n",
    "print('一共有{0}本书，{1}个作者，{2}个出版社；'.format(len(bdf),len(set(list(bdf['作者']))),len(set(list(bdf['出版社'])))))"
   ]
  },
  {
   "cell_type": "code",
   "execution_count": 21,
   "metadata": {},
   "outputs": [
    {
     "data": {
      "text/plain": [
       "[日]东野圭吾    15\n",
       "刘慈欣        14\n",
       "秦明          9\n",
       "江南          9\n",
       "萧鼎          8\n",
       "雷米          5\n",
       "吴军          4\n",
       "Name: 作者, dtype: int64"
      ]
     },
     "execution_count": 21,
     "metadata": {},
     "output_type": "execute_result"
    }
   ],
   "source": [
    "#前几位的作者\n",
    "bdf['作者'].value_counts().head(7)"
   ]
  },
  {
   "cell_type": "code",
   "execution_count": 24,
   "metadata": {},
   "outputs": [
    {
     "data": {
      "text/html": [
       "<div>\n",
       "<style scoped>\n",
       "    .dataframe tbody tr th:only-of-type {\n",
       "        vertical-align: middle;\n",
       "    }\n",
       "\n",
       "    .dataframe tbody tr th {\n",
       "        vertical-align: top;\n",
       "    }\n",
       "\n",
       "    .dataframe thead th {\n",
       "        text-align: right;\n",
       "    }\n",
       "</style>\n",
       "<table border=\"1\" class=\"dataframe\">\n",
       "  <thead>\n",
       "    <tr style=\"text-align: right;\">\n",
       "      <th></th>\n",
       "      <th>书名</th>\n",
       "      <th>阅读时间</th>\n",
       "      <th>阅读情况</th>\n",
       "      <th>出版社</th>\n",
       "    </tr>\n",
       "  </thead>\n",
       "  <tbody>\n",
       "    <tr>\n",
       "      <th>104</th>\n",
       "      <td>数学之美</td>\n",
       "      <td>2016-10-20</td>\n",
       "      <td>P5</td>\n",
       "      <td>人民邮电出版社</td>\n",
       "    </tr>\n",
       "    <tr>\n",
       "      <th>234</th>\n",
       "      <td>智能时代</td>\n",
       "      <td>2017-06-22</td>\n",
       "      <td>P4</td>\n",
       "      <td>中信出版社</td>\n",
       "    </tr>\n",
       "    <tr>\n",
       "      <th>238</th>\n",
       "      <td>硅谷之谜</td>\n",
       "      <td>2017-07-01</td>\n",
       "      <td>P4</td>\n",
       "      <td>人民邮电出版社</td>\n",
       "    </tr>\n",
       "    <tr>\n",
       "      <th>385</th>\n",
       "      <td>见识--商业的本质和人生的智慧</td>\n",
       "      <td>2018-10-21</td>\n",
       "      <td>P4</td>\n",
       "      <td>中信出版社</td>\n",
       "    </tr>\n",
       "  </tbody>\n",
       "</table>\n",
       "</div>"
      ],
      "text/plain": [
       "                  书名       阅读时间 阅读情况      出版社\n",
       "104             数学之美 2016-10-20   P5  人民邮电出版社\n",
       "234             智能时代 2017-06-22   P4    中信出版社\n",
       "238             硅谷之谜 2017-07-01   P4  人民邮电出版社\n",
       "385  见识--商业的本质和人生的智慧 2018-10-21   P4    中信出版社"
      ]
     },
     "execution_count": 24,
     "metadata": {},
     "output_type": "execute_result"
    }
   ],
   "source": [
    "#前6位都是小说类型的书，可以看一下吴军的是哪些书\n",
    "bdf.loc[bdf['作者']=='吴军',['书名','阅读时间','阅读情况','出版社']]"
   ]
  },
  {
   "cell_type": "code",
   "execution_count": 101,
   "metadata": {},
   "outputs": [],
   "source": [
    "#print(bdf.loc[bdf['作者']=='吴军',['书名','阅读时间','阅读情况','出版社']]) #print is easy to copy"
   ]
  },
  {
   "cell_type": "code",
   "execution_count": 25,
   "metadata": {},
   "outputs": [
    {
     "data": {
      "text/plain": [
       "人民邮电出版社       36\n",
       "EbookPress    30\n",
       "中信出版社         24\n",
       "机械工业出版社       22\n",
       "北京大学出版社       19\n",
       "电子工业出版社       19\n",
       "清华大学出版社       13\n",
       "Name: 出版社, dtype: int64"
      ]
     },
     "execution_count": 25,
     "metadata": {},
     "output_type": "execute_result"
    }
   ],
   "source": [
    "#前几个出版社\n",
    "bdf['出版社'].value_counts().head(7)"
   ]
  },
  {
   "cell_type": "code",
   "execution_count": 99,
   "metadata": {},
   "outputs": [
    {
     "data": {
      "text/plain": [
       "<matplotlib.axes._subplots.AxesSubplot at 0x7fe60d584438>"
      ]
     },
     "execution_count": 99,
     "metadata": {},
     "output_type": "execute_result"
    },
    {
     "data": {
      "image/png": "[encoded data removed]",
      "text/plain": [
       "<Figure size 864x432 with 1 Axes>"
      ]
     },
     "metadata": {},
     "output_type": "display_data"
    }
   ],
   "source": [
    "press=pd.DataFrame(bdf['出版社'].value_counts())\n",
    "press.plot(kind='bar',figsize=(12,6))\n",
    "#各家出版社的统计分布"
   ]
  },
  {
   "cell_type": "code",
   "execution_count": 32,
   "metadata": {},
   "outputs": [
    {
     "data": {
      "text/plain": [
       "'2015-09'"
      ]
     },
     "execution_count": 32,
     "metadata": {},
     "output_type": "execute_result"
    }
   ],
   "source": [
    "bdf.loc[0,'阅读时间'].strftime('%Y-%m')"
   ]
  },
  {
   "cell_type": "code",
   "execution_count": 6,
   "metadata": {},
   "outputs": [],
   "source": [
    "r_date=bdf.loc[:,['阅读时间','书名']]"
   ]
  },
  {
   "cell_type": "code",
   "execution_count": 8,
   "metadata": {},
   "outputs": [],
   "source": [
    "#r_date=r_date.cumsum()"
   ]
  },
  {
   "cell_type": "code",
   "execution_count": null,
   "metadata": {},
   "outputs": [],
   "source": []
  },
  {
   "cell_type": "code",
   "execution_count": 26,
   "metadata": {},
   "outputs": [],
   "source": [
    "#阅读时间按月统计（折线图）\n",
    "bdf['阅读年月']=bdf['阅读时间'].apply(lambda x : x.strftime('%Y-%m'))"
   ]
  },
  {
   "cell_type": "code",
   "execution_count": 27,
   "metadata": {},
   "outputs": [],
   "source": [
    "read_date=bdf['阅读年月'].value_counts() #每月阅读量，按月计数\n",
    "read_date=pd.DataFrame(read_date,columns=['阅读年月']) #从Series变为DataFrame"
   ]
  },
  {
   "cell_type": "code",
   "execution_count": 41,
   "metadata": {},
   "outputs": [],
   "source": []
  },
  {
   "cell_type": "code",
   "execution_count": 29,
   "metadata": {},
   "outputs": [],
   "source": [
    "read_date=read_date.sort_index()"
   ]
  },
  {
   "cell_type": "code",
   "execution_count": 21,
   "metadata": {},
   "outputs": [
    {
     "data": {
      "text/plain": [
       "<matplotlib.axes._subplots.AxesSubplot at 0x7fe60eb24908>"
      ]
     },
     "execution_count": 21,
     "metadata": {},
     "output_type": "execute_result"
    },
    {
     "data": {
      "image/png": "[encoded data removed]",
      "text/plain": [
       "<Figure size 864x360 with 1 Axes>"
      ]
     },
     "metadata": {},
     "output_type": "display_data"
    }
   ],
   "source": [
    "read_date.plot(figsize=(12,5)) #没调出来x坐标标签 xticks 不行"
   ]
  },
  {
   "cell_type": "code",
   "execution_count": 30,
   "metadata": {},
   "outputs": [
    {
     "data": {
      "text/plain": [
       "[<matplotlib.lines.Line2D at 0x7fe612c52198>]"
      ]
     },
     "execution_count": 30,
     "metadata": {},
     "output_type": "execute_result"
    },
    {
     "data": {
      "image/png": "[encoded data removed]",
      "text/plain": [
       "<Figure size 1080x360 with 1 Axes>"
      ]
     },
     "metadata": {},
     "output_type": "display_data"
    }
   ],
   "source": [
    "plt.figure(figsize=(15,5))\n",
    "plt.xticks(rotation=90)#设置时间标签显示格式\n",
    "plt.plot(read_date)"
   ]
  },
  {
   "cell_type": "code",
   "execution_count": 31,
   "metadata": {},
   "outputs": [],
   "source": [
    "bdf['阅读年']=bdf['阅读时间'].apply(lambda x : x.strftime('%Y'))\n",
    "bdf['阅读月']=bdf['阅读时间'].apply(lambda x : x.strftime('%m')) #这里也可以用.month .year"
   ]
  },
  {
   "cell_type": "code",
   "execution_count": 33,
   "metadata": {},
   "outputs": [],
   "source": [
    "r_dd=bdf.loc[:,['阅读年','阅读月']]\n"
   ]
  },
  {
   "cell_type": "code",
   "execution_count": 40,
   "metadata": {},
   "outputs": [],
   "source": [
    "r_dd['val']=1"
   ]
  },
  {
   "cell_type": "code",
   "execution_count": null,
   "metadata": {},
   "outputs": [],
   "source": [
    "r_ee=r_dd.groupby()"
   ]
  },
  {
   "cell_type": "code",
   "execution_count": 35,
   "metadata": {},
   "outputs": [],
   "source": [
    "import numpy as np"
   ]
  },
  {
   "cell_type": "code",
   "execution_count": 41,
   "metadata": {},
   "outputs": [
    {
     "data": {
      "text/html": [
       "<div>\n",
       "<style scoped>\n",
       "    .dataframe tbody tr th:only-of-type {\n",
       "        vertical-align: middle;\n",
       "    }\n",
       "\n",
       "    .dataframe tbody tr th {\n",
       "        vertical-align: top;\n",
       "    }\n",
       "\n",
       "    .dataframe thead th {\n",
       "        text-align: right;\n",
       "    }\n",
       "</style>\n",
       "<table border=\"1\" class=\"dataframe\">\n",
       "  <thead>\n",
       "    <tr style=\"text-align: right;\">\n",
       "      <th>阅读年</th>\n",
       "      <th>2015</th>\n",
       "      <th>2016</th>\n",
       "      <th>2017</th>\n",
       "      <th>2018</th>\n",
       "      <th>2019</th>\n",
       "    </tr>\n",
       "    <tr>\n",
       "      <th>阅读月</th>\n",
       "      <th></th>\n",
       "      <th></th>\n",
       "      <th></th>\n",
       "      <th></th>\n",
       "      <th></th>\n",
       "    </tr>\n",
       "  </thead>\n",
       "  <tbody>\n",
       "    <tr>\n",
       "      <th>01</th>\n",
       "      <td>NaN</td>\n",
       "      <td>2.0</td>\n",
       "      <td>11.0</td>\n",
       "      <td>8.0</td>\n",
       "      <td>7.0</td>\n",
       "    </tr>\n",
       "    <tr>\n",
       "      <th>02</th>\n",
       "      <td>NaN</td>\n",
       "      <td>10.0</td>\n",
       "      <td>23.0</td>\n",
       "      <td>16.0</td>\n",
       "      <td>9.0</td>\n",
       "    </tr>\n",
       "    <tr>\n",
       "      <th>03</th>\n",
       "      <td>NaN</td>\n",
       "      <td>3.0</td>\n",
       "      <td>17.0</td>\n",
       "      <td>9.0</td>\n",
       "      <td>NaN</td>\n",
       "    </tr>\n",
       "    <tr>\n",
       "      <th>04</th>\n",
       "      <td>NaN</td>\n",
       "      <td>1.0</td>\n",
       "      <td>16.0</td>\n",
       "      <td>9.0</td>\n",
       "      <td>NaN</td>\n",
       "    </tr>\n",
       "    <tr>\n",
       "      <th>05</th>\n",
       "      <td>NaN</td>\n",
       "      <td>11.0</td>\n",
       "      <td>4.0</td>\n",
       "      <td>7.0</td>\n",
       "      <td>NaN</td>\n",
       "    </tr>\n",
       "    <tr>\n",
       "      <th>06</th>\n",
       "      <td>NaN</td>\n",
       "      <td>NaN</td>\n",
       "      <td>7.0</td>\n",
       "      <td>2.0</td>\n",
       "      <td>NaN</td>\n",
       "    </tr>\n",
       "    <tr>\n",
       "      <th>07</th>\n",
       "      <td>NaN</td>\n",
       "      <td>18.0</td>\n",
       "      <td>24.0</td>\n",
       "      <td>9.0</td>\n",
       "      <td>NaN</td>\n",
       "    </tr>\n",
       "    <tr>\n",
       "      <th>08</th>\n",
       "      <td>NaN</td>\n",
       "      <td>2.0</td>\n",
       "      <td>6.0</td>\n",
       "      <td>14.0</td>\n",
       "      <td>NaN</td>\n",
       "    </tr>\n",
       "    <tr>\n",
       "      <th>09</th>\n",
       "      <td>18.0</td>\n",
       "      <td>11.0</td>\n",
       "      <td>8.0</td>\n",
       "      <td>20.0</td>\n",
       "      <td>NaN</td>\n",
       "    </tr>\n",
       "    <tr>\n",
       "      <th>10</th>\n",
       "      <td>NaN</td>\n",
       "      <td>24.0</td>\n",
       "      <td>3.0</td>\n",
       "      <td>10.0</td>\n",
       "      <td>NaN</td>\n",
       "    </tr>\n",
       "    <tr>\n",
       "      <th>11</th>\n",
       "      <td>9.0</td>\n",
       "      <td>45.0</td>\n",
       "      <td>4.0</td>\n",
       "      <td>11.0</td>\n",
       "      <td>NaN</td>\n",
       "    </tr>\n",
       "    <tr>\n",
       "      <th>12</th>\n",
       "      <td>1.0</td>\n",
       "      <td>3.0</td>\n",
       "      <td>5.0</td>\n",
       "      <td>2.0</td>\n",
       "      <td>NaN</td>\n",
       "    </tr>\n",
       "  </tbody>\n",
       "</table>\n",
       "</div>"
      ],
      "text/plain": [
       "阅读年  2015  2016  2017  2018  2019\n",
       "阅读月                              \n",
       "01    NaN   2.0  11.0   8.0   7.0\n",
       "02    NaN  10.0  23.0  16.0   9.0\n",
       "03    NaN   3.0  17.0   9.0   NaN\n",
       "04    NaN   1.0  16.0   9.0   NaN\n",
       "05    NaN  11.0   4.0   7.0   NaN\n",
       "06    NaN   NaN   7.0   2.0   NaN\n",
       "07    NaN  18.0  24.0   9.0   NaN\n",
       "08    NaN   2.0   6.0  14.0   NaN\n",
       "09   18.0  11.0   8.0  20.0   NaN\n",
       "10    NaN  24.0   3.0  10.0   NaN\n",
       "11    9.0  45.0   4.0  11.0   NaN\n",
       "12    1.0   3.0   5.0   2.0   NaN"
      ]
     },
     "execution_count": 41,
     "metadata": {},
     "output_type": "execute_result"
    }
   ],
   "source": [
    "pd.pivot_table(r_dd,values='val',index=['阅读月'],columns=['阅读年'],aggfunc=np.sum)"
   ]
  },
  {
   "cell_type": "code",
   "execution_count": 45,
   "metadata": {},
   "outputs": [
    {
     "data": {
      "text/html": [
       "<div>\n",
       "<style scoped>\n",
       "    .dataframe tbody tr th:only-of-type {\n",
       "        vertical-align: middle;\n",
       "    }\n",
       "\n",
       "    .dataframe tbody tr th {\n",
       "        vertical-align: top;\n",
       "    }\n",
       "\n",
       "    .dataframe thead th {\n",
       "        text-align: right;\n",
       "    }\n",
       "</style>\n",
       "<table border=\"1\" class=\"dataframe\">\n",
       "  <thead>\n",
       "    <tr style=\"text-align: right;\">\n",
       "      <th>阅读年</th>\n",
       "      <th>2015</th>\n",
       "      <th>2016</th>\n",
       "      <th>2017</th>\n",
       "      <th>2018</th>\n",
       "      <th>2019</th>\n",
       "    </tr>\n",
       "    <tr>\n",
       "      <th>阅读月</th>\n",
       "      <th></th>\n",
       "      <th></th>\n",
       "      <th></th>\n",
       "      <th></th>\n",
       "      <th></th>\n",
       "    </tr>\n",
       "  </thead>\n",
       "  <tbody>\n",
       "    <tr>\n",
       "      <th>01</th>\n",
       "      <td>0.0</td>\n",
       "      <td>2.0</td>\n",
       "      <td>11.0</td>\n",
       "      <td>8.0</td>\n",
       "      <td>7.0</td>\n",
       "    </tr>\n",
       "    <tr>\n",
       "      <th>02</th>\n",
       "      <td>0.0</td>\n",
       "      <td>10.0</td>\n",
       "      <td>23.0</td>\n",
       "      <td>16.0</td>\n",
       "      <td>9.0</td>\n",
       "    </tr>\n",
       "    <tr>\n",
       "      <th>03</th>\n",
       "      <td>0.0</td>\n",
       "      <td>3.0</td>\n",
       "      <td>17.0</td>\n",
       "      <td>9.0</td>\n",
       "      <td>0.0</td>\n",
       "    </tr>\n",
       "    <tr>\n",
       "      <th>04</th>\n",
       "      <td>0.0</td>\n",
       "      <td>1.0</td>\n",
       "      <td>16.0</td>\n",
       "      <td>9.0</td>\n",
       "      <td>0.0</td>\n",
       "    </tr>\n",
       "    <tr>\n",
       "      <th>05</th>\n",
       "      <td>0.0</td>\n",
       "      <td>11.0</td>\n",
       "      <td>4.0</td>\n",
       "      <td>7.0</td>\n",
       "      <td>0.0</td>\n",
       "    </tr>\n",
       "    <tr>\n",
       "      <th>06</th>\n",
       "      <td>0.0</td>\n",
       "      <td>0.0</td>\n",
       "      <td>7.0</td>\n",
       "      <td>2.0</td>\n",
       "      <td>0.0</td>\n",
       "    </tr>\n",
       "    <tr>\n",
       "      <th>07</th>\n",
       "      <td>0.0</td>\n",
       "      <td>18.0</td>\n",
       "      <td>24.0</td>\n",
       "      <td>9.0</td>\n",
       "      <td>0.0</td>\n",
       "    </tr>\n",
       "    <tr>\n",
       "      <th>08</th>\n",
       "      <td>0.0</td>\n",
       "      <td>2.0</td>\n",
       "      <td>6.0</td>\n",
       "      <td>14.0</td>\n",
       "      <td>0.0</td>\n",
       "    </tr>\n",
       "    <tr>\n",
       "      <th>09</th>\n",
       "      <td>18.0</td>\n",
       "      <td>11.0</td>\n",
       "      <td>8.0</td>\n",
       "      <td>20.0</td>\n",
       "      <td>0.0</td>\n",
       "    </tr>\n",
       "    <tr>\n",
       "      <th>10</th>\n",
       "      <td>0.0</td>\n",
       "      <td>24.0</td>\n",
       "      <td>3.0</td>\n",
       "      <td>10.0</td>\n",
       "      <td>0.0</td>\n",
       "    </tr>\n",
       "    <tr>\n",
       "      <th>11</th>\n",
       "      <td>9.0</td>\n",
       "      <td>45.0</td>\n",
       "      <td>4.0</td>\n",
       "      <td>11.0</td>\n",
       "      <td>0.0</td>\n",
       "    </tr>\n",
       "    <tr>\n",
       "      <th>12</th>\n",
       "      <td>1.0</td>\n",
       "      <td>3.0</td>\n",
       "      <td>5.0</td>\n",
       "      <td>2.0</td>\n",
       "      <td>0.0</td>\n",
       "    </tr>\n",
       "  </tbody>\n",
       "</table>\n",
       "</div>"
      ],
      "text/plain": [
       "阅读年  2015  2016  2017  2018  2019\n",
       "阅读月                              \n",
       "01    0.0   2.0  11.0   8.0   7.0\n",
       "02    0.0  10.0  23.0  16.0   9.0\n",
       "03    0.0   3.0  17.0   9.0   0.0\n",
       "04    0.0   1.0  16.0   9.0   0.0\n",
       "05    0.0  11.0   4.0   7.0   0.0\n",
       "06    0.0   0.0   7.0   2.0   0.0\n",
       "07    0.0  18.0  24.0   9.0   0.0\n",
       "08    0.0   2.0   6.0  14.0   0.0\n",
       "09   18.0  11.0   8.0  20.0   0.0\n",
       "10    0.0  24.0   3.0  10.0   0.0\n",
       "11    9.0  45.0   4.0  11.0   0.0\n",
       "12    1.0   3.0   5.0   2.0   0.0"
      ]
     },
     "execution_count": 45,
     "metadata": {},
     "output_type": "execute_result"
    }
   ],
   "source": [
    "r_dd=pd.pivot_table(r_dd,values='val',index=['阅读月'],columns=['阅读年'],aggfunc=np.sum).fillna(value=0)\n",
    "r_dd"
   ]
  },
  {
   "cell_type": "code",
   "execution_count": 47,
   "metadata": {},
   "outputs": [
    {
     "data": {
      "text/plain": [
       "Index(['2015', '2016', '2017', '2018', '2019'], dtype='object', name='阅读年')"
      ]
     },
     "execution_count": 47,
     "metadata": {},
     "output_type": "execute_result"
    }
   ],
   "source": [
    "r_dd.columns"
   ]
  },
  {
   "cell_type": "code",
   "execution_count": 48,
   "metadata": {},
   "outputs": [],
   "source": [
    "r_dd=r_dd.loc[:,['2016','2017','2018']]"
   ]
  },
  {
   "cell_type": "code",
   "execution_count": 49,
   "metadata": {},
   "outputs": [
    {
     "data": {
      "text/plain": [
       "<matplotlib.axes._subplots.AxesSubplot at 0x7fe60e8cce48>"
      ]
     },
     "execution_count": 49,
     "metadata": {},
     "output_type": "execute_result"
    },
    {
     "data": {
      "image/png": "[encoded data removed]",
      "text/plain": [
       "<Figure size 432x288 with 1 Axes>"
      ]
     },
     "metadata": {},
     "output_type": "display_data"
    }
   ],
   "source": [
    "r_dd.plot()"
   ]
  },
  {
   "cell_type": "code",
   "execution_count": 52,
   "metadata": {},
   "outputs": [
    {
     "data": {
      "text/plain": [
       "[<matplotlib.lines.Line2D at 0x7fe60e741e80>,\n",
       " <matplotlib.lines.Line2D at 0x7fe60e741f60>,\n",
       " <matplotlib.lines.Line2D at 0x7fe60e7480f0>]"
      ]
     },
     "execution_count": 52,
     "metadata": {},
     "output_type": "execute_result"
    },
    {
     "data": {
      "image/png": "[encoded data removed]",
      "text/plain": [
       "<Figure size 864x360 with 1 Axes>"
      ]
     },
     "metadata": {},
     "output_type": "display_data"
    }
   ],
   "source": [
    "plt.figure(figsize=(12,5))\n",
    "plt.legend(r_dd.columns)\n",
    "plt.plot(r_dd)"
   ]
  },
  {
   "cell_type": "code",
   "execution_count": 54,
   "metadata": {},
   "outputs": [
    {
     "data": {
      "text/plain": [
       "<matplotlib.axes._subplots.AxesSubplot at 0x7fe60e6f8e48>"
      ]
     },
     "execution_count": 54,
     "metadata": {},
     "output_type": "execute_result"
    },
    {
     "data": {
      "text/plain": [
       "<Figure size 432x288 with 0 Axes>"
      ]
     },
     "metadata": {},
     "output_type": "display_data"
    },
    {
     "data": {
      "image/png": "[encoded data removed]",
      "text/plain": [
       "<Figure size 864x360 with 1 Axes>"
      ]
     },
     "metadata": {},
     "output_type": "display_data"
    }
   ],
   "source": [
    "plt.figure()\n",
    "r_dd.plot(xticks=range(1,13),figsize=(12,5))#;plt.legend(loc='best')"
   ]
  },
  {
   "cell_type": "code",
   "execution_count": 67,
   "metadata": {},
   "outputs": [
    {
     "name": "stdout",
     "output_type": "stream",
     "text": [
      "37\n"
     ]
    },
    {
     "data": {
      "text/html": [
       "<div>\n",
       "<style scoped>\n",
       "    .dataframe tbody tr th:only-of-type {\n",
       "        vertical-align: middle;\n",
       "    }\n",
       "\n",
       "    .dataframe tbody tr th {\n",
       "        vertical-align: top;\n",
       "    }\n",
       "\n",
       "    .dataframe thead th {\n",
       "        text-align: right;\n",
       "    }\n",
       "</style>\n",
       "<table border=\"1\" class=\"dataframe\">\n",
       "  <thead>\n",
       "    <tr style=\"text-align: right;\">\n",
       "      <th></th>\n",
       "      <th>书名</th>\n",
       "      <th>作者</th>\n",
       "      <th>阅读时间</th>\n",
       "      <th>阅读情况</th>\n",
       "      <th>出版社</th>\n",
       "      <th>评分</th>\n",
       "    </tr>\n",
       "  </thead>\n",
       "  <tbody>\n",
       "    <tr>\n",
       "      <th>108</th>\n",
       "      <td>大数据时代</td>\n",
       "      <td>维克托·迈尔·舍恩伯格</td>\n",
       "      <td>2016-10-25</td>\n",
       "      <td>P4</td>\n",
       "      <td>浙江人民出版社</td>\n",
       "      <td>7.5</td>\n",
       "    </tr>\n",
       "    <tr>\n",
       "      <th>109</th>\n",
       "      <td>删除：大数据取舍之道</td>\n",
       "      <td>维克托·迈尔·舍恩伯格</td>\n",
       "      <td>2016-10-27</td>\n",
       "      <td>P4</td>\n",
       "      <td>NaN</td>\n",
       "      <td>NaN</td>\n",
       "    </tr>\n",
       "    <tr>\n",
       "      <th>120</th>\n",
       "      <td>鲜活的数据：数据可视化指南</td>\n",
       "      <td>[美]Nathan Yau</td>\n",
       "      <td>2016-11-07</td>\n",
       "      <td>P3</td>\n",
       "      <td>人民邮电出版社</td>\n",
       "      <td>NaN</td>\n",
       "    </tr>\n",
       "    <tr>\n",
       "      <th>169</th>\n",
       "      <td>大话数据结构</td>\n",
       "      <td>程杰</td>\n",
       "      <td>2017-01-28</td>\n",
       "      <td>P3</td>\n",
       "      <td>清华大学出版社</td>\n",
       "      <td>7.9</td>\n",
       "    </tr>\n",
       "    <tr>\n",
       "      <th>219</th>\n",
       "      <td>利用Python进行数据分析</td>\n",
       "      <td>[美]Wes McKinney</td>\n",
       "      <td>2017-04-27</td>\n",
       "      <td>P3</td>\n",
       "      <td>机械工业出版社</td>\n",
       "      <td>8.5</td>\n",
       "    </tr>\n",
       "  </tbody>\n",
       "</table>\n",
       "</div>"
      ],
      "text/plain": [
       "                 书名               作者       阅读时间 阅读情况      出版社   评分\n",
       "108           大数据时代      维克托·迈尔·舍恩伯格 2016-10-25   P4  浙江人民出版社  7.5\n",
       "109      删除：大数据取舍之道      维克托·迈尔·舍恩伯格 2016-10-27   P4      NaN  NaN\n",
       "120   鲜活的数据：数据可视化指南    [美]Nathan Yau 2016-11-07   P3  人民邮电出版社  NaN\n",
       "169          大话数据结构               程杰 2017-01-28   P3  清华大学出版社  7.9\n",
       "219  利用Python进行数据分析  [美]Wes McKinney 2017-04-27   P3  机械工业出版社  8.5"
      ]
     },
     "execution_count": 67,
     "metadata": {},
     "output_type": "execute_result"
    }
   ],
   "source": [
    "#数据相关的书籍\n",
    "bdf['databook']=bdf['书名'].apply(lambda x: 'Y' if '数据' in x else 'N') #也可以用find()\n",
    "dsbook=bdf.loc[(bdf['databook']=='Y'),['书名','作者','阅读时间','阅读情况','出版社','评分']]\n",
    "print(len(dsbook))\n",
    "dsbook.head(5)"
   ]
  },
  {
   "cell_type": "code",
   "execution_count": 69,
   "metadata": {},
   "outputs": [
    {
     "data": {
      "text/plain": [
       "<matplotlib.axes._subplots.AxesSubplot at 0x7fe60e49b390>"
      ]
     },
     "execution_count": 69,
     "metadata": {},
     "output_type": "execute_result"
    },
    {
     "data": {
      "image/png": "[encoded data removed]",
      "text/plain": [
       "<Figure size 432x288 with 1 Axes>"
      ]
     },
     "metadata": {},
     "output_type": "display_data"
    }
   ],
   "source": [
    "#评分分布（箱线图）\n",
    "b_rank=pd.DataFrame(bdf['评分'])\n",
    "b_rank.boxplot()"
   ]
  },
  {
   "cell_type": "code",
   "execution_count": null,
   "metadata": {},
   "outputs": [],
   "source": []
  },
  {
   "cell_type": "code",
   "execution_count": 74,
   "metadata": {},
   "outputs": [
    {
     "data": {
      "text/plain": [
       "2015         AxesSubplot(0.1,0.679412;0.363636x0.220588)\n",
       "2016    AxesSubplot(0.536364,0.679412;0.363636x0.220588)\n",
       "2017         AxesSubplot(0.1,0.414706;0.363636x0.220588)\n",
       "2018    AxesSubplot(0.536364,0.414706;0.363636x0.220588)\n",
       "2019             AxesSubplot(0.1,0.15;0.363636x0.220588)\n",
       "dtype: object"
      ]
     },
     "execution_count": 74,
     "metadata": {},
     "output_type": "execute_result"
    },
    {
     "data": {
      "image/png": "[encoded data removed]",
      "text/plain": [
       "<Figure size 432x288 with 6 Axes>"
      ]
     },
     "metadata": {},
     "output_type": "display_data"
    }
   ],
   "source": [
    "b_rk=bdf.loc[:,['阅读年','评分']] #根据年对评分进行统计，排列还需要加强，多设置些参数\n",
    "b_rk.groupby('阅读年').boxplot()"
   ]
  },
  {
   "cell_type": "code",
   "execution_count": 30,
   "metadata": {},
   "outputs": [
    {
     "data": {
      "text/html": [
       "<div>\n",
       "<style scoped>\n",
       "    .dataframe tbody tr th:only-of-type {\n",
       "        vertical-align: middle;\n",
       "    }\n",
       "\n",
       "    .dataframe tbody tr th {\n",
       "        vertical-align: top;\n",
       "    }\n",
       "\n",
       "    .dataframe thead th {\n",
       "        text-align: right;\n",
       "    }\n",
       "</style>\n",
       "<table border=\"1\" class=\"dataframe\">\n",
       "  <thead>\n",
       "    <tr style=\"text-align: right;\">\n",
       "      <th></th>\n",
       "      <th>书名</th>\n",
       "      <th>作者</th>\n",
       "      <th>阅读时间</th>\n",
       "      <th>阅读情况</th>\n",
       "      <th>出版社</th>\n",
       "      <th>评分</th>\n",
       "    </tr>\n",
       "  </thead>\n",
       "  <tbody>\n",
       "    <tr>\n",
       "      <th>398</th>\n",
       "      <td>动物农场</td>\n",
       "      <td>[英]乔治·奥威尔</td>\n",
       "      <td>2018-11-13</td>\n",
       "      <td>P4</td>\n",
       "      <td>上海译文出版社</td>\n",
       "      <td>9.2</td>\n",
       "    </tr>\n",
       "    <tr>\n",
       "      <th>227</th>\n",
       "      <td>白夜行</td>\n",
       "      <td>[日]东野圭吾</td>\n",
       "      <td>2017-05-01</td>\n",
       "      <td>P5</td>\n",
       "      <td>南海出版公司</td>\n",
       "      <td>9.1</td>\n",
       "    </tr>\n",
       "    <tr>\n",
       "      <th>393</th>\n",
       "      <td>码农翻身</td>\n",
       "      <td>刘欣</td>\n",
       "      <td>2018-11-05</td>\n",
       "      <td>P4</td>\n",
       "      <td>电子工业出版社</td>\n",
       "      <td>9.1</td>\n",
       "    </tr>\n",
       "    <tr>\n",
       "      <th>288</th>\n",
       "      <td>图解密码技术</td>\n",
       "      <td>[日]结城浩</td>\n",
       "      <td>2018-01-15</td>\n",
       "      <td>P3</td>\n",
       "      <td>人民邮电出版社</td>\n",
       "      <td>9.1</td>\n",
       "    </tr>\n",
       "    <tr>\n",
       "      <th>205</th>\n",
       "      <td>逻辑与哲学</td>\n",
       "      <td>王路</td>\n",
       "      <td>2017-03-22</td>\n",
       "      <td>P3</td>\n",
       "      <td>人民出版社</td>\n",
       "      <td>9.1</td>\n",
       "    </tr>\n",
       "    <tr>\n",
       "      <th>51</th>\n",
       "      <td>从一到无穷大</td>\n",
       "      <td>[美] G·伽莫夫 / 校注 吴伯泽</td>\n",
       "      <td>2016-04-11</td>\n",
       "      <td>P4</td>\n",
       "      <td>科学出版社</td>\n",
       "      <td>9.1</td>\n",
       "    </tr>\n",
       "    <tr>\n",
       "      <th>64</th>\n",
       "      <td>超越时空</td>\n",
       "      <td>[日]加来道雄</td>\n",
       "      <td>2016-07-14</td>\n",
       "      <td>P4</td>\n",
       "      <td>上海科技教育出版社</td>\n",
       "      <td>9.0</td>\n",
       "    </tr>\n",
       "    <tr>\n",
       "      <th>356</th>\n",
       "      <td>永恒的终结</td>\n",
       "      <td>[美]艾萨克·阿西莫夫</td>\n",
       "      <td>2018-08-23</td>\n",
       "      <td>P5</td>\n",
       "      <td>江苏文艺出版社</td>\n",
       "      <td>9.0</td>\n",
       "    </tr>\n",
       "    <tr>\n",
       "      <th>346</th>\n",
       "      <td>轻松读懂财务报表</td>\n",
       "      <td>张昕</td>\n",
       "      <td>2018-07-16</td>\n",
       "      <td>P3</td>\n",
       "      <td>北京大学出版社</td>\n",
       "      <td>9.0</td>\n",
       "    </tr>\n",
       "    <tr>\n",
       "      <th>40</th>\n",
       "      <td>小王子</td>\n",
       "      <td>[法] 圣埃克苏佩里</td>\n",
       "      <td>2016-02-16</td>\n",
       "      <td>P4</td>\n",
       "      <td>人民文学出版社</td>\n",
       "      <td>9.0</td>\n",
       "    </tr>\n",
       "  </tbody>\n",
       "</table>\n",
       "</div>"
      ],
      "text/plain": [
       "           书名                  作者       阅读时间 阅读情况        出版社   评分\n",
       "398      动物农场           [英]乔治·奥威尔 2018-11-13   P4    上海译文出版社  9.2\n",
       "227       白夜行             [日]东野圭吾 2017-05-01   P5     南海出版公司  9.1\n",
       "393      码农翻身                  刘欣 2018-11-05   P4    电子工业出版社  9.1\n",
       "288    图解密码技术              [日]结城浩 2018-01-15   P3    人民邮电出版社  9.1\n",
       "205     逻辑与哲学                  王路 2017-03-22   P3      人民出版社  9.1\n",
       "51     从一到无穷大  [美] G·伽莫夫 / 校注 吴伯泽 2016-04-11   P4      科学出版社  9.1\n",
       "64       超越时空             [日]加来道雄 2016-07-14   P4  上海科技教育出版社  9.0\n",
       "356     永恒的终结         [美]艾萨克·阿西莫夫 2018-08-23   P5    江苏文艺出版社  9.0\n",
       "346  轻松读懂财务报表                  张昕 2018-07-16   P3    北京大学出版社  9.0\n",
       "40        小王子          [法] 圣埃克苏佩里 2016-02-16   P4    人民文学出版社  9.0"
      ]
     },
     "execution_count": 30,
     "metadata": {},
     "output_type": "execute_result"
    }
   ],
   "source": [
    "#评分 top 10\n",
    "bdf.sort_values(by='评分',ascending=False).head(10).loc[:,['书名','作者','阅读时间','阅读情况','出版社','评分']]"
   ]
  },
  {
   "cell_type": "code",
   "execution_count": 85,
   "metadata": {},
   "outputs": [],
   "source": [
    "#根据页数反算这些书一共有多少页\n",
    "def bookpage(x):\n",
    "    res=0\n",
    "    try:\n",
    "        res=int(x)\n",
    "    except:\n",
    "        res=0\n",
    "    return res"
   ]
  },
  {
   "cell_type": "code",
   "execution_count": 86,
   "metadata": {},
   "outputs": [],
   "source": [
    "bdf['页数']=bdf['页数'].apply(bookpage)"
   ]
  },
  {
   "cell_type": "code",
   "execution_count": 92,
   "metadata": {},
   "outputs": [],
   "source": [
    "bdf['页数']=bdf['页数'].apply(lambda x : x if x<1000 else 200)"
   ]
  },
  {
   "cell_type": "code",
   "execution_count": 89,
   "metadata": {},
   "outputs": [],
   "source": [
    "c_nna=274"
   ]
  },
  {
   "cell_type": "code",
   "execution_count": 81,
   "metadata": {},
   "outputs": [
    {
     "name": "stdout",
     "output_type": "stream",
     "text": [
      "419 274\n"
     ]
    }
   ],
   "source": [
    "print(len(bdf),bdf['页数'].count())\n",
    "c_nna=bdf['页数'].count()"
   ]
  },
  {
   "cell_type": "code",
   "execution_count": 87,
   "metadata": {},
   "outputs": [
    {
     "data": {
      "text/plain": [
       "419"
      ]
     },
     "execution_count": 87,
     "metadata": {},
     "output_type": "execute_result"
    }
   ],
   "source": [
    "bdf['页数'].count()"
   ]
  },
  {
   "cell_type": "code",
   "execution_count": 88,
   "metadata": {},
   "outputs": [
    {
     "data": {
      "text/plain": [
       "278622"
      ]
     },
     "execution_count": 88,
     "metadata": {},
     "output_type": "execute_result"
    }
   ],
   "source": [
    "bdf['页数'].sum()"
   ]
  },
  {
   "cell_type": "code",
   "execution_count": 91,
   "metadata": {},
   "outputs": [
    {
     "data": {
      "text/plain": [
       "664.9689737470167"
      ]
     },
     "execution_count": 91,
     "metadata": {},
     "output_type": "execute_result"
    }
   ],
   "source": [
    "bdf['页数'].mean()"
   ]
  },
  {
   "cell_type": "code",
   "execution_count": 94,
   "metadata": {},
   "outputs": [
    {
     "data": {
      "text/plain": [
       "284.3649635036496"
      ]
     },
     "execution_count": 94,
     "metadata": {},
     "output_type": "execute_result"
    }
   ],
   "source": [
    "page_mean=bdf['页数'].sum()/c_nna\n",
    "page_mean"
   ]
  },
  {
   "cell_type": "code",
   "execution_count": 95,
   "metadata": {},
   "outputs": [
    {
     "data": {
      "text/plain": [
       "119148.91970802919"
      ]
     },
     "execution_count": 95,
     "metadata": {},
     "output_type": "execute_result"
    }
   ],
   "source": [
    "page_mean*len(bdf)"
   ]
  },
  {
   "cell_type": "markdown",
   "metadata": {},
   "source": [
    "## 试代码区域"
   ]
  },
  {
   "cell_type": "code",
   "execution_count": null,
   "metadata": {},
   "outputs": [],
   "source": []
  },
  {
   "cell_type": "markdown",
   "metadata": {},
   "source": [
    "返回的是json。\n",
    "rj里面可以提取的属性：\n",
    "- \"title\":\"书名\",\n",
    "- \"url\":\"对应书的网页\",\n",
    "- \"pic\":\"书的封面图资源位置\",\n",
    "- \"author_name\":\"作者\",\n",
    "- \"year\":\"出版年份\",\n",
    "- \"type\":\"类型，书籍一般标为b，应该是指book\",\n",
    "- \"id\":\"书的豆瓣id，可以对应其网页\"\n",
    "\n",
    "eg:\n",
    "- 'title': '未来简史',\n",
    "- 'url': 'https://book.douban.com/subject/26943161/',\n",
    "- 'pic': 'https://img3.doubanio.com/view/subject/s/public/s29287103.jpg',\n",
    "- 'author_name': '[以色列] 尤瓦尔·赫拉利',\n",
    "- 'year': '2017',\n",
    "- 'type': 'b',\n",
    "- 'id': '26943161'"
   ]
  },
  {
   "cell_type": "code",
   "execution_count": 18,
   "metadata": {
    "ExecuteTime": {
     "end_time": "2019-02-22T09:57:00.024998Z",
     "start_time": "2019-02-22T09:56:59.903837Z"
    }
   },
   "outputs": [
    {
     "data": {
      "text/plain": [
       "[{'title': '未来简史',\n",
       "  'url': 'https://book.douban.com/subject/26943161/',\n",
       "  'pic': 'https://img3.doubanio.com/view/subject/s/public/s29287103.jpg',\n",
       "  'author_name': '[以色列] 尤瓦尔·赫拉利',\n",
       "  'year': '2017',\n",
       "  'type': 'b',\n",
       "  'id': '26943161'},\n",
       " {'title': '未来简史',\n",
       "  'url': 'https://book.douban.com/subject/26945094/',\n",
       "  'pic': 'https://img1.doubanio.com/view/subject/s/public/s29317658.jpg',\n",
       "  'author_name': '[以色列] 尤瓦尔·赫拉利',\n",
       "  'year': '2016',\n",
       "  'type': 'b',\n",
       "  'id': '26945094'},\n",
       " {'title': '未来简史',\n",
       "  'url': 'https://book.douban.com/subject/4891197/',\n",
       "  'pic': 'https://img3.doubanio.com/view/subject/s/public/s6263884.jpg',\n",
       "  'author_name': '(法) 阿塔利',\n",
       "  'year': '2010',\n",
       "  'type': 'b',\n",
       "  'id': '4891197'},\n",
       " {'title': '未來簡史',\n",
       "  'url': 'https://book.douban.com/subject/30349873/',\n",
       "  'pic': 'https://img3.doubanio.com/view/subject/s/public/s29893492.jpg',\n",
       "  'author_name': '賈克‧阿塔利',\n",
       "  'year': '2018',\n",
       "  'type': 'b',\n",
       "  'id': '30349873'},\n",
       " {'title': '未来人类简史',\n",
       "  'url': 'https://book.douban.com/subject/26977428/',\n",
       "  'pic': 'https://img1.doubanio.com/view/subject/s/public/s29485158.jpg',\n",
       "  'author_name': '[以] 尤瓦尔·赫拉利',\n",
       "  'year': '2017',\n",
       "  'type': 'b',\n",
       "  'id': '26977428'},\n",
       " {'title': '新周刊丛书：未来简史',\n",
       "  'url': 'https://book.douban.com/subject/10530993/',\n",
       "  'pic': 'https://img3.doubanio.com/view/subject/s/public/s24642312.jpg',\n",
       "  'author_name': '新周刊',\n",
       "  'year': '2013',\n",
       "  'type': 'b',\n",
       "  'id': '10530993'}]"
      ]
     },
     "execution_count": 18,
     "metadata": {},
     "output_type": "execute_result"
    }
   ],
   "source": [
    "r=requests.get('https://book.douban.com/j/subject_suggest?q={0}'.format('未来简史'))\n",
    "rj=json.loads(r.text)\n",
    "rj"
   ]
  },
  {
   "cell_type": "code",
   "execution_count": 79,
   "metadata": {},
   "outputs": [
    {
     "name": "stdout",
     "output_type": "stream",
     "text": [
      "<class 'pandas.core.frame.DataFrame'>\n",
      "RangeIndex: 419 entries, 0 to 418\n",
      "Data columns (total 21 columns):\n",
      "书名          419 non-null object\n",
      "阅读时间        419 non-null datetime64[ns]\n",
      "作者          391 non-null object\n",
      "阅读情况        404 non-null object\n",
      "备注          186 non-null object\n",
      "出版社         356 non-null object\n",
      "出版社省份       282 non-null object\n",
      "出版时间        345 non-null object\n",
      "分类          373 non-null float64\n",
      "来源          373 non-null float64\n",
      "字数(千字)      65 non-null float64\n",
      "页数          274 non-null object\n",
      "ISBN        257 non-null object\n",
      "外文书名        115 non-null object\n",
      "评分          215 non-null float64\n",
      "评价人数        227 non-null object\n",
      "豆瓣id        235 non-null float64\n",
      "阅读年月        419 non-null object\n",
      "阅读年         419 non-null object\n",
      "阅读月         419 non-null object\n",
      "databook    419 non-null object\n",
      "dtypes: datetime64[ns](1), float64(5), object(15)\n",
      "memory usage: 68.8+ KB\n"
     ]
    }
   ],
   "source": [
    "bdf.info()"
   ]
  },
  {
   "cell_type": "markdown",
   "metadata": {},
   "source": [
    "## 参考文献\n",
    "\n",
    "- https://lxml.de/api/lxml.etree._Element-class.html\n",
    "- https://pandas.pydata.org/pandas-docs/stable/reference/api/pandas.Timestamp.html"
   ]
  }
 ],
 "metadata": {
  "kernelspec": {
   "display_name": "Python 3",
   "language": "python",
   "name": "python3"
  },
  "language_info": {
   "codemirror_mode": {
    "name": "ipython",
    "version": 3
   },
   "file_extension": ".py",
   "mimetype": "text/x-python",
   "name": "python",
   "nbconvert_exporter": "python",
   "pygments_lexer": "ipython3",
   "version": "3.6.5"
  },
  "toc": {
   "base_numbering": 1,
   "nav_menu": {},
   "number_sections": true,
   "sideBar": true,
   "skip_h1_title": false,
   "title_cell": "Table of Contents",
   "title_sidebar": "Contents",
   "toc_cell": false,
   "toc_position": {},
   "toc_section_display": true,
   "toc_window_display": false
  }
 },
 "nbformat": 4,
 "nbformat_minor": 2
}
