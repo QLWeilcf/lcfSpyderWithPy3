{
 "cells": [
  {
   "cell_type": "markdown",
   "metadata": {},
   "source": [
    "# 基于已有书名列表的豆瓣专题爬虫\n",
    "\n",
    "- 需求：根据含有书名的Excel文件逐条查找补充书目信息，爬区豆瓣上的出版社、出版时间、ISBN、定价、评分、评分人数等；整合到pandas进行专题分析。\n",
    "- 爬虫+数据分析：根据书名爬豆瓣获取书籍属性、整合到pandas，进行分析\n",
    "\n",
    "本来打算直接用https://book.douban.com/subject_search?search_text={0}&cat=1001'.format('书名') 查询结构，没找到异步返回的数据json，绕了一圈后发现https://book.douban.com/j/subject_suggest?q={0}  可以用，就用了，通过比较名字和作者等确定url，然后直接爬该图书主页，然后写入字典。再变成dataframe。"
   ]
  },
  {
   "cell_type": "code",
   "execution_count": 1,
   "metadata": {
    "ExecuteTime": {
     "end_time": "2019-02-22T09:36:36.829909Z",
     "start_time": "2019-02-22T09:36:33.730339Z"
    }
   },
   "outputs": [],
   "source": [
    "#引入所需库\n",
    "import json\n",
    "import requests\n",
    "import pandas as pd\n",
    "from lxml import etree"
   ]
  },
  {
   "cell_type": "code",
   "execution_count": 4,
   "metadata": {
    "ExecuteTime": {
     "end_time": "2019-02-22T09:48:58.955320Z",
     "start_time": "2019-02-22T09:48:58.700941Z"
    }
   },
   "outputs": [],
   "source": [
    "bsdf=pd.read_excel('booklistfortest.xlsx') #读取书名Excel数据，为了简化，这里只用了\"书名\"列\n",
    "#bsdf.head(3)"
   ]
  },
  {
   "cell_type": "code",
   "execution_count": 5,
   "metadata": {
    "ExecuteTime": {
     "end_time": "2019-02-22T09:49:00.905526Z",
     "start_time": "2019-02-22T09:49:00.895553Z"
    }
   },
   "outputs": [
    {
     "data": {
      "text/plain": [
       "'龙族'"
      ]
     },
     "execution_count": 5,
     "metadata": {},
     "output_type": "execute_result"
    }
   ],
   "source": [
    "blst=list(bsdf['书名']) #书名列表\n",
    "blst[0]"
   ]
  },
  {
   "cell_type": "markdown",
   "metadata": {},
   "source": [
    "爬虫方面涉及到的：get，xpath去匹配，对于长度不定的一个html区域，不能写死xpath解析式，通过循环去取数，理清其HTML树结构；\n",
    "\n",
    "一般解析是用BeautifulSoup或xpath，我更喜欢用xpath，因此下面的代码主要基于xpath解析文本。\n",
    "以评分为例，鼠标点击评分部分，然后按Ctrl+Shift+I，或者右键点击检查元素，反正就是定位到评分对应的HTML上，定位到评分的代码部分后，右键，选择Copy->Copy XPath ,例如对于评分来说有：//*[@id=\"interest_sectl\"]/div/div[2]/strong 通过con.xpath('//*[@id=\"interest_sectl\"]/div/div[2]/strong/text()')就可以得到评分数据，返回的是列表，一般就是第0个值。同样，其他地方也是这样，而作者、出版社那几个属性是结构比较散的，需要特殊处理。\n",
    "\n",
    "通过//*[@id=\"info\"]/span[2] 可以确定 出版社 这个属性，但是属性的值，具体是哪个出版社不能确定，这些文字是在info这个节点上的。还是需要建立info的树结构"
   ]
  },
  {
   "cell_type": "code",
   "execution_count": null,
   "metadata": {},
   "outputs": [],
   "source": []
  },
  {
   "cell_type": "code",
   "execution_count": 19,
   "metadata": {
    "ExecuteTime": {
     "end_time": "2019-02-22T10:19:17.052405Z",
     "start_time": "2019-02-22T10:19:17.045424Z"
    }
   },
   "outputs": [
    {
     "data": {
      "text/plain": [
       "[' 5.9 ']"
      ]
     },
     "execution_count": 19,
     "metadata": {},
     "output_type": "execute_result"
    }
   ],
   "source": [
    "con.xpath('//*[@id=\"interest_sectl\"]/div/div[2]/strong/text()')"
   ]
  },
  {
   "cell_type": "code",
   "execution_count": 8,
   "metadata": {
    "ExecuteTime": {
     "end_time": "2019-02-22T09:50:20.879398Z",
     "start_time": "2019-02-22T09:50:20.871394Z"
    }
   },
   "outputs": [],
   "source": [
    "def getBookInfo(binfo,cc):\n",
    "    i=0\n",
    "    rss={}\n",
    "    k=''\n",
    "    v=''\n",
    "    f=0\n",
    "    clw=[]\n",
    "    for c in cc:\n",
    "        if '\\n' in c:\n",
    "            if '\\xa0' in c:\n",
    "                clw.append(c)\n",
    "        else:\n",
    "            clw.append(c)\n",
    "    \n",
    "    for m in binfo[0]:\n",
    "        if m.tag=='span':\n",
    "            mlst=m.getchildren()\n",
    "            if len(mlst)==0: \n",
    "                k=m.text.replace(':','')\n",
    "                if '\\xa0' in clw[i]:\n",
    "                    f=1#需要m.tag=='a'下的值\n",
    "                else:\n",
    "                    v=clw[i].replace('\\n','').replace(' ','')\n",
    "                i+=1\n",
    "            elif len(mlst)>0:#下面有子span 一种判断是m.attrib=={} 不够精确\n",
    "                for n in mlst:\n",
    "                    if n.tag=='span':\n",
    "                        k=n.text.replace('\\n','').replace(' ','') #不至于下面还有span，懒得用递归了\n",
    "                    elif n.tag=='a':\n",
    "                        v=n.text.replace('\\n','').replace(' ','')\n",
    "        \n",
    "        elif m.tag=='a':\n",
    "            if f==1: #是否可以不用这个if\n",
    "                v=m.text.replace('\\n','').replace(' ','')\n",
    "                f=0\n",
    "        elif m.tag=='br':\n",
    "            if k=='':\n",
    "                print(i,'err')\n",
    "            else:\n",
    "                rss[k]=v\n",
    "        else:\n",
    "            print(m.tag,i)\n",
    "    return rss"
   ]
  },
  {
   "cell_type": "markdown",
   "metadata": {},
   "source": [
    "调用上面函数返回的是一个字典，要整合到已有的字典里。涉及字典的组合，查了一下可以用d=dict(d,\\*\\*dw)，其中d是旧字典，dw是要加到d里的新字典，更简便的方式是用d.update(dw)函数，下面的代码就是用的update的。"
   ]
  },
  {
   "cell_type": "code",
   "execution_count": null,
   "metadata": {},
   "outputs": [],
   "source": []
  },
  {
   "cell_type": "markdown",
   "metadata": {},
   "source": [
    "主体代码如下，这个部分也可以打包为函数，因为jupyter里还是逐步分析方面就没打包"
   ]
  },
  {
   "cell_type": "code",
   "execution_count": 9,
   "metadata": {
    "ExecuteTime": {
     "end_time": "2019-02-22T09:51:31.515042Z",
     "start_time": "2019-02-22T09:51:21.718724Z"
    }
   },
   "outputs": [],
   "source": [
    "rlst=[]\n",
    "for bn in blst:\n",
    "    res={}\n",
    "    r=requests.get('https://book.douban.com/j/subject_suggest?q={0}'.format(bn))\n",
    "    rj=json.loads(r.text)\n",
    "    #对rj进行一下验证和筛选\n",
    "    html=requests.get(rj[0]['url']) #之后再考虑多个返回值的验证\n",
    "    con = etree.HTML(html.text)\n",
    "    bname=con.xpath('//*[@id=\"wrapper\"]/h1/span/text()')[0] #和bn比较\n",
    "    res['bname_sq']=bn\n",
    "    res['bname']=bname\n",
    "    res['dbid']=rj[0]['id'] #不需要存url，存id就够了\n",
    "    #这部分取到info就够了，之后再用高级方法去匹配需要的元素，目前对应不对\n",
    "    binfo=con.xpath('//*[@id=\"info\"]')\n",
    "    cc=con.xpath('//*[@id=\"info\"]/text()')\n",
    "    res.update(getBookInfo(binfo,cc))  #调用上面的函数处理binfo\n",
    "    bmark=con.xpath('//*[@id=\"interest_sectl\"]/div/div[2]/strong/text()')[0]\n",
    "    if bmark=='  ':\n",
    "        bits=con.xpath('//*[@id=\"interest_sectl\"]/div/div[2]/div/div[2]/span/a/text()')[0]\n",
    "        if bits=='评价人数不足':\n",
    "            res['评分']=''\n",
    "            res['评价人数']='评价人数不足'\n",
    "        else:\n",
    "            res['评分']=''\n",
    "            res['评价人数']=''\n",
    "    else:\n",
    "        res['评分']=bmark.replace(' ','')\n",
    "        bmnum=con.xpath('//*[@id=\"interest_sectl\"]/div/div[2]/div/div[2]/span/a/span/text()')[0]\n",
    "        res['评价人数']=bmnum\n",
    "    rlst.append(res)"
   ]
  },
  {
   "cell_type": "code",
   "execution_count": 1,
   "metadata": {
    "ExecuteTime": {
     "end_time": "2019-02-25T10:07:50.764200Z",
     "start_time": "2019-02-25T10:07:50.665448Z"
    }
   },
   "outputs": [
    {
     "ename": "NameError",
     "evalue": "name 'pd' is not defined",
     "output_type": "error",
     "traceback": [
      "\u001b[1;31m--------------------------------------------------------------------------\u001b[0m",
      "\u001b[1;31mNameError\u001b[0m                                Traceback (most recent call last)",
      "\u001b[1;32m<ipython-input-1-7d1ee9147cd3>\u001b[0m in \u001b[0;36m<module>\u001b[1;34m()\u001b[0m\n\u001b[1;32m----> 1\u001b[1;33m \u001b[0moutdf\u001b[0m\u001b[1;33m=\u001b[0m\u001b[0mpd\u001b[0m\u001b[1;33m.\u001b[0m\u001b[0mDataFrame\u001b[0m\u001b[1;33m(\u001b[0m\u001b[0mrlst\u001b[0m\u001b[1;33m)\u001b[0m\u001b[1;33m\u001b[0m\u001b[0m\n\u001b[0m",
      "\u001b[1;31mNameError\u001b[0m: name 'pd' is not defined"
     ]
    }
   ],
   "source": [
    "outdf=pd.DataFrame(rlst)"
   ]
  },
  {
   "cell_type": "code",
   "execution_count": 2,
   "metadata": {
    "ExecuteTime": {
     "end_time": "2019-02-25T10:08:15.037933Z",
     "start_time": "2019-02-25T10:08:15.030947Z"
    }
   },
   "outputs": [
    {
     "ename": "NameError",
     "evalue": "name 'outdf' is not defined",
     "output_type": "error",
     "traceback": [
      "\u001b[1;31m--------------------------------------------------------------------------\u001b[0m",
      "\u001b[1;31mNameError\u001b[0m                                Traceback (most recent call last)",
      "\u001b[1;32m<ipython-input-2-9c577d6e8a15>\u001b[0m in \u001b[0;36m<module>\u001b[1;34m()\u001b[0m\n\u001b[1;32m----> 1\u001b[1;33m \u001b[0moutdf\u001b[0m\u001b[1;33m.\u001b[0m\u001b[0mhead\u001b[0m\u001b[1;33m(\u001b[0m\u001b[1;36m3\u001b[0m\u001b[1;33m)\u001b[0m\u001b[1;33m\u001b[0m\u001b[0m\n\u001b[0m",
      "\u001b[1;31mNameError\u001b[0m: name 'outdf' is not defined"
     ]
    }
   ],
   "source": [
    "outdf.head(3)"
   ]
  },
  {
   "cell_type": "code",
   "execution_count": 16,
   "metadata": {
    "ExecuteTime": {
     "end_time": "2019-02-22T09:54:10.652197Z",
     "start_time": "2019-02-22T09:54:10.648182Z"
    }
   },
   "outputs": [],
   "source": []
  },
  {
   "cell_type": "code",
   "execution_count": null,
   "metadata": {},
   "outputs": [],
   "source": [
    "#数据分析"
   ]
  },
  {
   "cell_type": "code",
   "execution_count": null,
   "metadata": {},
   "outputs": [],
   "source": [
    "outdf.to_excel('out_douban_binfo.xlsx',index=False) #输出数据"
   ]
  },
  {
   "cell_type": "markdown",
   "metadata": {},
   "source": [
    "## 试代码区域"
   ]
  },
  {
   "cell_type": "code",
   "execution_count": 18,
   "metadata": {
    "ExecuteTime": {
     "end_time": "2019-02-22T09:57:00.024998Z",
     "start_time": "2019-02-22T09:56:59.903837Z"
    }
   },
   "outputs": [
    {
     "data": {
      "text/plain": [
       "[{'title': '未来简史',\n",
       "  'url': 'https://book.douban.com/subject/26943161/',\n",
       "  'pic': 'https://img3.doubanio.com/view/subject/s/public/s29287103.jpg',\n",
       "  'author_name': '[以色列] 尤瓦尔·赫拉利',\n",
       "  'year': '2017',\n",
       "  'type': 'b',\n",
       "  'id': '26943161'},\n",
       " {'title': '未来简史',\n",
       "  'url': 'https://book.douban.com/subject/26945094/',\n",
       "  'pic': 'https://img1.doubanio.com/view/subject/s/public/s29317658.jpg',\n",
       "  'author_name': '[以色列] 尤瓦尔·赫拉利',\n",
       "  'year': '2016',\n",
       "  'type': 'b',\n",
       "  'id': '26945094'},\n",
       " {'title': '未来简史',\n",
       "  'url': 'https://book.douban.com/subject/4891197/',\n",
       "  'pic': 'https://img3.doubanio.com/view/subject/s/public/s6263884.jpg',\n",
       "  'author_name': '(法) 阿塔利',\n",
       "  'year': '2010',\n",
       "  'type': 'b',\n",
       "  'id': '4891197'},\n",
       " {'title': '未來簡史',\n",
       "  'url': 'https://book.douban.com/subject/30349873/',\n",
       "  'pic': 'https://img3.doubanio.com/view/subject/s/public/s29893492.jpg',\n",
       "  'author_name': '賈克‧阿塔利',\n",
       "  'year': '2018',\n",
       "  'type': 'b',\n",
       "  'id': '30349873'},\n",
       " {'title': '未来人类简史',\n",
       "  'url': 'https://book.douban.com/subject/26977428/',\n",
       "  'pic': 'https://img1.doubanio.com/view/subject/s/public/s29485158.jpg',\n",
       "  'author_name': '[以] 尤瓦尔·赫拉利',\n",
       "  'year': '2017',\n",
       "  'type': 'b',\n",
       "  'id': '26977428'},\n",
       " {'title': '新周刊丛书：未来简史',\n",
       "  'url': 'https://book.douban.com/subject/10530993/',\n",
       "  'pic': 'https://img3.doubanio.com/view/subject/s/public/s24642312.jpg',\n",
       "  'author_name': '新周刊',\n",
       "  'year': '2013',\n",
       "  'type': 'b',\n",
       "  'id': '10530993'}]"
      ]
     },
     "execution_count": 18,
     "metadata": {},
     "output_type": "execute_result"
    }
   ],
   "source": [
    "r=requests.get('https://book.douban.com/j/subject_suggest?q={0}'.format('未来简史'))\n",
    "rj=json.loads(r.text)\n",
    "rj"
   ]
  },
  {
   "cell_type": "code",
   "execution_count": null,
   "metadata": {},
   "outputs": [],
   "source": []
  },
  {
   "cell_type": "code",
   "execution_count": null,
   "metadata": {},
   "outputs": [],
   "source": []
  },
  {
   "cell_type": "markdown",
   "metadata": {},
   "source": [
    "返回的是json。\n",
    "rj里面可以提取的属性：\n",
    "- \"title\":\"书名\",\n",
    "- \"url\":\"对应书的网页\",\n",
    "- \"pic\":\"书的封面图资源位置\",\n",
    "- \"author_name\":\"作者\",\n",
    "- \"year\":\"出版年份\",\n",
    "- \"type\":\"类型，书籍一般标为b，应该是指book\",\n",
    "- \"id\":\"书的豆瓣id，可以对应其网页\"\n",
    "\n",
    "eg:\n",
    "- 'title': '未来简史',\n",
    "- 'url': 'https://book.douban.com/subject/26943161/',\n",
    "- 'pic': 'https://img3.doubanio.com/view/subject/s/public/s29287103.jpg',\n",
    "- 'author_name': '[以色列] 尤瓦尔·赫拉利',\n",
    "- 'year': '2017',\n",
    "- 'type': 'b',\n",
    "- 'id': '26943161'"
   ]
  },
  {
   "cell_type": "code",
   "execution_count": 20,
   "metadata": {
    "ExecuteTime": {
     "end_time": "2019-02-22T10:26:53.531299Z",
     "start_time": "2019-02-22T10:26:52.374963Z"
    }
   },
   "outputs": [],
   "source": [
    "#一般有多个返回值，简化只取第一个，所以就是用rj[0]['url']\n",
    "html=requests.get(rj[0]['url'])"
   ]
  },
  {
   "cell_type": "code",
   "execution_count": 21,
   "metadata": {
    "ExecuteTime": {
     "end_time": "2019-02-22T10:26:54.546719Z",
     "start_time": "2019-02-22T10:26:54.541733Z"
    }
   },
   "outputs": [
    {
     "data": {
      "text/plain": [
       "'https://book.douban.com/subject/26943161/'"
      ]
     },
     "execution_count": 21,
     "metadata": {},
     "output_type": "execute_result"
    }
   ],
   "source": [
    "rj[0]['url']"
   ]
  },
  {
   "cell_type": "code",
   "execution_count": 22,
   "metadata": {
    "ExecuteTime": {
     "end_time": "2019-02-22T10:26:57.895208Z",
     "start_time": "2019-02-22T10:26:57.878254Z"
    }
   },
   "outputs": [
    {
     "data": {
      "text/plain": [
       "<Element div at 0x19aad51ed08>"
      ]
     },
     "execution_count": 22,
     "metadata": {},
     "output_type": "execute_result"
    }
   ],
   "source": [
    "con = etree.HTML(html.text)\n",
    "binfo=con.xpath('//*[@id=\"info\"]')\n",
    "binfo[0]"
   ]
  },
  {
   "cell_type": "code",
   "execution_count": 24,
   "metadata": {
    "ExecuteTime": {
     "end_time": "2019-02-22T10:27:06.220851Z",
     "start_time": "2019-02-22T10:27:06.210878Z"
    }
   },
   "outputs": [
    {
     "ename": "TypeError",
     "evalue": "getBookInfo() missing 1 required positional argument: 'cc'",
     "output_type": "error",
     "traceback": [
      "\u001b[1;31m------------------------------------------------------------------------\u001b[0m",
      "\u001b[1;31mTypeError\u001b[0m                              Traceback (most recent call last)",
      "\u001b[1;32m<ipython-input-24-b4364928c4bd>\u001b[0m in \u001b[0;36m<module>\u001b[1;34m()\u001b[0m\n\u001b[1;32m----> 1\u001b[1;33m \u001b[0mgetBookInfo\u001b[0m\u001b[1;33m(\u001b[0m\u001b[0mbinfo\u001b[0m\u001b[1;33m)\u001b[0m\u001b[1;33m\u001b[0m\u001b[0m\n\u001b[0m",
      "\u001b[1;31mTypeError\u001b[0m: getBookInfo() missing 1 required positional argument: 'cc'"
     ]
    }
   ],
   "source": [
    "getBookInfo(binfo,cc)"
   ]
  },
  {
   "cell_type": "code",
   "execution_count": null,
   "metadata": {},
   "outputs": [],
   "source": [
    "import re\n",
    "def priceNorm(df):#用apply处理定价列\n",
    "    pri=df['定价']\n",
    "    pric=re.findall('^[0-9]+\\.[0-9]+',pri)\n",
    "    if pric==[]:\n",
    "        print(pri)\n",
    "        return float(pri)\n",
    "    else:\n",
    "        return float(pric[0])"
   ]
  },
  {
   "cell_type": "code",
   "execution_count": null,
   "metadata": {},
   "outputs": [],
   "source": [
    "outdf.apply(priceNorm,axis=1)\n",
    "#因为存在外国价格，就不直接转float了"
   ]
  },
  {
   "cell_type": "markdown",
   "metadata": {},
   "source": [
    "## 参考文献\n",
    "\n",
    "- https://lxml.de/api/lxml.etree._Element-class.html"
   ]
  }
 ],
 "metadata": {
  "kernelspec": {
   "display_name": "Python 3",
   "language": "python",
   "name": "python3"
  },
  "language_info": {
   "codemirror_mode": {
    "name": "ipython",
    "version": 3
   },
   "file_extension": ".py",
   "mimetype": "text/x-python",
   "name": "python",
   "nbconvert_exporter": "python",
   "pygments_lexer": "ipython3",
   "version": "3.7.0"
  },
  "toc": {
   "base_numbering": 1,
   "nav_menu": {},
   "number_sections": true,
   "sideBar": true,
   "skip_h1_title": false,
   "title_cell": "Table of Contents",
   "title_sidebar": "Contents",
   "toc_cell": false,
   "toc_position": {},
   "toc_section_display": true,
   "toc_window_display": false
  }
 },
 "nbformat": 4,
 "nbformat_minor": 2
}
